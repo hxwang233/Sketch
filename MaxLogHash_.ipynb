{
 "cells": [
  {
   "cell_type": "code",
   "execution_count": 1,
   "metadata": {},
   "outputs": [],
   "source": [
    "import numpy as np"
   ]
  },
  {
   "cell_type": "code",
   "execution_count": 2,
   "metadata": {},
   "outputs": [],
   "source": [
    "dataStreams = np.loadtxt(\"mushroom/mushroom.dat\", dtype=np.int8)"
   ]
  },
  {
   "cell_type": "code",
   "execution_count": 3,
   "metadata": {},
   "outputs": [],
   "source": [
    "def initSketchs():\n",
    "    return dict()"
   ]
  },
  {
   "cell_type": "code",
   "execution_count": 4,
   "metadata": {},
   "outputs": [],
   "source": [
    "def setupSketch(user, sketchs, k):\n",
    "    sketch = np.zeros((k, 2), dtype=int)\n",
    "    sketch[0:k, 0] = 1\n",
    "    sketchs[user] = sketch\n",
    "    return "
   ]
  },
  {
   "cell_type": "code",
   "execution_count": 5,
   "metadata": {},
   "outputs": [],
   "source": [
    "def update(item, sketch):\n",
    "    for i in range(sketch.shape[0]):\n",
    "        np.random.seed(item+i)\n",
    "        r = np.int(np.floor(-np.log2(np.random.random())))\n",
    "        if r > sketch[i][1]:\n",
    "            sketch[i][1] = r\n",
    "        elif r == sketch[i][1]:\n",
    "            sketch[i][0] = 0\n",
    "    np.random.seed()\n",
    "    return"
   ]
  },
  {
   "cell_type": "code",
   "execution_count": 6,
   "metadata": {
    "code_folding": []
   },
   "outputs": [],
   "source": [
    "def query(user1, user2, sketchs):\n",
    "    s1 = sketchs[user1]\n",
    "    s2 = sketchs[user2]\n",
    "    k1  = s1.shape[0]\n",
    "    k2 = 0\n",
    "    for i in range(k1):\n",
    "        a = 0\n",
    "        b = 0\n",
    "        if s1[i][1] != s2[i][1]:\n",
    "            a = 1\n",
    "            if s1[i][1] > s2[i][1]:\n",
    "                b = s1[i][0]\n",
    "            elif s1[i][1] < s2[i][1]:\n",
    "                b = s2[i][0]\n",
    "        if a * b == 1:\n",
    "            k2 += 1\n",
    "    jaccard = 1 - k2 / (k1 * 0.7213)\n",
    "    return jaccard"
   ]
  },
  {
   "cell_type": "code",
   "execution_count": 7,
   "metadata": {},
   "outputs": [],
   "source": [
    "def simulate(dataStreams, k):\n",
    "    sketchs = initSketchs()\n",
    "    for u, uset in enumerate(dataStreams):\n",
    "        if u not in sketchs:\n",
    "            setupSketch(u, sketchs, k)\n",
    "        for i in uset:\n",
    "            update(i, sketchs[u])\n",
    "        if u % 1000 == 0 :\n",
    "            print ('finish: No', u)\n",
    "    return sketchs"
   ]
  },
  {
   "cell_type": "code",
   "execution_count": 18,
   "metadata": {},
   "outputs": [],
   "source": [
    "def getRealJC(user1, user2, dataStreams):\n",
    "    jaccard = len(np.intersect1d(dataStreams[user1], \n",
    "                                 dataStreams[user2])) / len(np.union1d(dataStreams[user1], dataStreams[user2]))\n",
    "    return jaccard"
   ]
  },
  {
   "cell_type": "code",
   "execution_count": 21,
   "metadata": {},
   "outputs": [],
   "source": [
    "k = 200"
   ]
  },
  {
   "cell_type": "code",
   "execution_count": 22,
   "metadata": {},
   "outputs": [
    {
     "name": "stdout",
     "output_type": "stream",
     "text": [
      "finish: No 0\n",
      "finish: No 1000\n",
      "finish: No 2000\n",
      "finish: No 3000\n",
      "finish: No 4000\n",
      "finish: No 5000\n",
      "finish: No 6000\n",
      "finish: No 7000\n",
      "finish: No 8000\n"
     ]
    }
   ],
   "source": [
    "sketchs = simulate(dataStreams, k)"
   ]
  },
  {
   "cell_type": "code",
   "execution_count": 23,
   "metadata": {},
   "outputs": [
    {
     "data": {
      "text/plain": [
       "0.8890891446000277"
      ]
     },
     "execution_count": 23,
     "metadata": {},
     "output_type": "execute_result"
    }
   ],
   "source": [
    "query(0, 1, sketchs)"
   ]
  },
  {
   "cell_type": "code",
   "execution_count": 19,
   "metadata": {},
   "outputs": [
    {
     "data": {
      "text/plain": [
       "0.4838709677419355"
      ]
     },
     "execution_count": 19,
     "metadata": {},
     "output_type": "execute_result"
    }
   ],
   "source": [
    "getRealJC(0, 1, dataStreams)"
   ]
  },
  {
   "cell_type": "code",
   "execution_count": 14,
   "metadata": {},
   "outputs": [
    {
     "data": {
      "text/plain": [
       "array([  1,   3,   9,  13,  23,  25,  34,  36,  38,  40,  52,  54,  59,\n",
       "        63,  67,  76,  85,  86,  90,  93,  98, 107, 113], dtype=int8)"
      ]
     },
     "execution_count": 14,
     "metadata": {},
     "output_type": "execute_result"
    }
   ],
   "source": [
    "dataStreams[0]"
   ]
  },
  {
   "cell_type": "code",
   "execution_count": 15,
   "metadata": {},
   "outputs": [
    {
     "data": {
      "text/plain": [
       "array([  2,   3,   9,  14,  23,  26,  34,  36,  39,  40,  52,  55,  59,\n",
       "        63,  67,  76,  85,  86,  90,  93,  99, 108, 114], dtype=int8)"
      ]
     },
     "execution_count": 15,
     "metadata": {},
     "output_type": "execute_result"
    }
   ],
   "source": [
    "dataStreams[1]"
   ]
  },
  {
   "cell_type": "code",
   "execution_count": 20,
   "metadata": {},
   "outputs": [
    {
     "data": {
      "text/plain": [
       "0.4838709677419355"
      ]
     },
     "execution_count": 20,
     "metadata": {},
     "output_type": "execute_result"
    }
   ],
   "source": [
    "len(set(dataStreams[0]) & set(dataStreams[1])) / len(set(dataStreams[0]) | set(dataStreams[1]))"
   ]
  },
  {
   "cell_type": "code",
   "execution_count": null,
   "metadata": {},
   "outputs": [],
   "source": []
  }
 ],
 "metadata": {
  "hide_input": false,
  "kernelspec": {
   "display_name": "Python 3",
   "language": "python",
   "name": "python3"
  },
  "language_info": {
   "codemirror_mode": {
    "name": "ipython",
    "version": 3
   },
   "file_extension": ".py",
   "mimetype": "text/x-python",
   "name": "python",
   "nbconvert_exporter": "python",
   "pygments_lexer": "ipython3",
   "version": "3.7.0"
  },
  "toc": {
   "base_numbering": 1,
   "nav_menu": {},
   "number_sections": true,
   "sideBar": true,
   "skip_h1_title": false,
   "title_cell": "Table of Contents",
   "title_sidebar": "Contents",
   "toc_cell": false,
   "toc_position": {},
   "toc_section_display": true,
   "toc_window_display": false
  },
  "varInspector": {
   "cols": {
    "lenName": 16,
    "lenType": 16,
    "lenVar": 40
   },
   "kernels_config": {
    "python": {
     "delete_cmd_postfix": "",
     "delete_cmd_prefix": "del ",
     "library": "var_list.py",
     "varRefreshCmd": "print(var_dic_list())"
    },
    "r": {
     "delete_cmd_postfix": ") ",
     "delete_cmd_prefix": "rm(",
     "library": "var_list.r",
     "varRefreshCmd": "cat(var_dic_list()) "
    }
   },
   "types_to_exclude": [
    "module",
    "function",
    "builtin_function_or_method",
    "instance",
    "_Feature"
   ],
   "window_display": false
  }
 },
 "nbformat": 4,
 "nbformat_minor": 2
}
