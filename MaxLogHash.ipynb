{
 "cells": [
  {
   "cell_type": "code",
   "execution_count": 2,
   "metadata": {},
   "outputs": [],
   "source": [
    "import numpy as np\n",
    "import pandas as pd\n",
    "import matplotlib.pyplot as plt\n",
    "import math\n",
    "import random\n",
    "%matplotlib inline"
   ]
  },
  {
   "cell_type": "code",
   "execution_count": 3,
   "metadata": {},
   "outputs": [],
   "source": [
    "mushroom = pd.read_table('connect/connect.dat', sep='\\s+', header=None)"
   ]
  },
  {
   "cell_type": "code",
   "execution_count": 4,
   "metadata": {},
   "outputs": [
    {
     "name": "stdout",
     "output_type": "stream",
     "text": [
      "columns of data: 43\n",
      "rows of data: 67557\n",
      "items: 119\n",
      "bits of String: 5\n"
     ]
    }
   ],
   "source": [
    "print('columns of data:', len(mushroom.columns))\n",
    "print('rows of data:', len(mushroom.index))\n",
    "print('items:', 119)\n",
    "print('bits of String:', math.ceil(np.log2(np.log2(len(mushroom.index)))))"
   ]
  },
  {
   "cell_type": "code",
   "execution_count": 5,
   "metadata": {},
   "outputs": [],
   "source": [
    "def getStream(rawdata):\n",
    "    temp = list()\n",
    "    n = len(rawdata.index)\n",
    "    m = len(rawdata.columns)\n",
    "    for i in range(n):\n",
    "        for j in range(m):\n",
    "            temp.append([rawdata.iloc[i,j], i])\n",
    "    data = np.array(temp, dtype = int)\n",
    "    return data"
   ]
  },
  {
   "cell_type": "code",
   "execution_count": 6,
   "metadata": {},
   "outputs": [
    {
     "data": {
      "text/plain": [
       "2904951"
      ]
     },
     "execution_count": 6,
     "metadata": {},
     "output_type": "execute_result"
    }
   ],
   "source": [
    "stream = getStream(mushroom)\n",
    "len(stream)"
   ]
  },
  {
   "cell_type": "code",
   "execution_count": 7,
   "metadata": {},
   "outputs": [],
   "source": [
    "def getComplete(stream):\n",
    "    complete = dict()\n",
    "    for i in range(len(stream)):\n",
    "        item = stream[i][0]\n",
    "        record = stream[i][1]\n",
    "        if item not in complete.keys():\n",
    "            complete[item] = set()\n",
    "        complete[item].add(record)\n",
    "    return complete\n",
    "\n",
    "def getRealJC(complete, setA_index, setB_index):\n",
    "    setA = complete[setA_index]\n",
    "    setB = complete[setB_index]\n",
    "    return len(setA&setB)/len(setA|setB)\n",
    "    \n",
    "complete = getComplete(stream)"
   ]
  },
  {
   "cell_type": "code",
   "execution_count": 8,
   "metadata": {},
   "outputs": [],
   "source": [
    "k = 200"
   ]
  },
  {
   "cell_type": "code",
   "execution_count": 9,
   "metadata": {},
   "outputs": [],
   "source": [
    "def getSketch(stream):\n",
    "    global k\n",
    "    sketch = dict()\n",
    "    for i in range(len(stream)):\n",
    "        item = stream[i][0]\n",
    "        record = stream[i][1]\n",
    "        if item not in sketch.keys():\n",
    "            sketch[item] = - np.ones((k,1+1),dtype='int8')\n",
    "        for j in range(k):\n",
    "            random.seed(record+j)\n",
    "            mu = math.floor(- np.log2(random.uniform(0, 1)))\n",
    "            if mu == sketch[item][j][1]:\n",
    "                sketch[item][j][0] = 0\n",
    "            elif mu > sketch[item][j][1]:\n",
    "                sketch[item][j][0] = 1\n",
    "                sketch[item][j][1] = mu\n",
    "    return sketch"
   ]
  },
  {
   "cell_type": "code",
   "execution_count": 10,
   "metadata": {},
   "outputs": [],
   "source": [
    "sketch = getSketch(stream)\n"
   ]
  },
  {
   "cell_type": "code",
   "execution_count": 11,
   "metadata": {},
   "outputs": [],
   "source": [
    "def getEstimateJC(sketch):\n",
    "    global k\n",
    "    jaccards = dict()\n",
    "    items = list(sketch.keys())\n",
    "    for i in range(len(items) - 1):\n",
    "        for j in range(i + 1, len(items)):\n",
    "            a = items[i]\n",
    "            b = items[j]\n",
    "            flag = 0\n",
    "            for h in range(k):\n",
    "                x1 = x2 = 0 \n",
    "                if sketch[a][h][1] != sketch[b][h][1]:\n",
    "                    x1 = 1\n",
    "                    if sketch[a][h][1] > sketch[b][h][1]:\n",
    "                        x2 = sketch[a][h][0]\n",
    "                    elif sketch[a][h][1] < sketch[b][h][1]:\n",
    "                        x2 = sketch[b][h][0]\n",
    "                flag += x1 * x2\n",
    "            jc = 1 - flag / (k * 0.7213)\n",
    "            jaccards[(a, b)] = jc\n",
    "    return jaccards"
   ]
  },
  {
   "cell_type": "code",
   "execution_count": 12,
   "metadata": {},
   "outputs": [],
   "source": [
    "jaccards = getEstimateJC(sketch)\n"
   ]
  },
  {
   "cell_type": "code",
   "execution_count": 13,
   "metadata": {},
   "outputs": [],
   "source": [
    "def evaluate(jaccards, complete):\n",
    "    tp = fp = fn = tn = 0\n",
    "    for i,j in jaccards.items():\n",
    "        setA_index = i[0]\n",
    "        setB_index = i[1]\n",
    "        realJC = getRealJC(complete, setA_index, setB_index)\n",
    "        estimateJC = j\n",
    "        if realJC > 0.8 and estimateJC >0.8:\n",
    "            tp += 1\n",
    "        elif realJC > 0.8 and estimateJC <= 0.8:\n",
    "            fn += 1\n",
    "        elif realJC <= 0.8 and estimateJC > 0.8:\n",
    "            fp += 1\n",
    "        elif realJC <= 0.8 and estimateJC <= 0.8:\n",
    "            tn += 1\n",
    "    print(tp, fp, fn ,tn)\n",
    "    recall = tp / (tp + fn)\n",
    "    print('reacall:', recall)\n",
    "    precision = tp / (tp + fp)\n",
    "    print('precision:',precision)\n"
   ]
  },
  {
   "cell_type": "code",
   "execution_count": 14,
   "metadata": {},
   "outputs": [
    {
     "name": "stdout",
     "output_type": "stream",
     "text": [
      "275 326 49 7606\n",
      "reacall: 0.8487654320987654\n",
      "precision: 0.45757071547420963\n"
     ]
    }
   ],
   "source": [
    "evaluate(jaccards, complete)"
   ]
  }
 ],
 "metadata": {
  "hide_input": false,
  "kernelspec": {
   "display_name": "Python 3",
   "language": "python",
   "name": "python3"
  },
  "language_info": {
   "codemirror_mode": {
    "name": "ipython",
    "version": 3
   },
   "file_extension": ".py",
   "mimetype": "text/x-python",
   "name": "python",
   "nbconvert_exporter": "python",
   "pygments_lexer": "ipython3",
   "version": "3.7.0"
  },
  "toc": {
   "base_numbering": 1,
   "nav_menu": {},
   "number_sections": true,
   "sideBar": true,
   "skip_h1_title": false,
   "title_cell": "Table of Contents",
   "title_sidebar": "Contents",
   "toc_cell": false,
   "toc_position": {},
   "toc_section_display": true,
   "toc_window_display": false
  },
  "varInspector": {
   "cols": {
    "lenName": 16,
    "lenType": 16,
    "lenVar": 40
   },
   "kernels_config": {
    "python": {
     "delete_cmd_postfix": "",
     "delete_cmd_prefix": "del ",
     "library": "var_list.py",
     "varRefreshCmd": "print(var_dic_list())"
    },
    "r": {
     "delete_cmd_postfix": ") ",
     "delete_cmd_prefix": "rm(",
     "library": "var_list.r",
     "varRefreshCmd": "cat(var_dic_list()) "
    }
   },
   "types_to_exclude": [
    "module",
    "function",
    "builtin_function_or_method",
    "instance",
    "_Feature"
   ],
   "window_display": false
  }
 },
 "nbformat": 4,
 "nbformat_minor": 2
}
