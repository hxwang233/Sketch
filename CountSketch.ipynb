{
 "cells": [
  {
   "cell_type": "code",
   "execution_count": 1,
   "metadata": {},
   "outputs": [
    {
     "name": "stdout",
     "output_type": "stream",
     "text": [
      "20\n",
      "2123\n",
      "[20, 19, 18, 17, 16, 15, 14, 13, 12, 11, 10, 9, 8, 7, 6, 5, 4, 3, 2, 1]\n",
      "[1, 2, 3, 4, 5, 6, 7, 8, 9, 10, 11, 12, 13, 14, 15, 16, 17, 18, 19, 20]\n",
      "1.0\n",
      "0.0\n"
     ]
    }
   ],
   "source": [
    "import numpy as np\n",
    "import math\n",
    "import random\n",
    "from Heap import MyHeap\n",
    "\n",
    "hashmap=dict()\n",
    "def Add(C,q):\n",
    "    global hashmap\n",
    "    t=len(C)\n",
    "    b=len(C[0])\n",
    "    if q not in hashmap.keys():\n",
    "        temp=dict()\n",
    "        for i in range(t):\n",
    "            hi=np.random.choice(range(0,b),1)[0]\n",
    "            si=np.random.choice([-1, 1],1)[0]\n",
    "            temp[i]=(hi,si)\n",
    "            C[i][hi]+=si\n",
    "        hashmap[q]=temp\n",
    "    else:\n",
    "        for i in range(t):\n",
    "            hi=hashmap[q][i][0]\n",
    "            si=hashmap[q][i][1]\n",
    "            C[i][hi]+=si\n",
    "    return C\n",
    "    \n",
    "def Estimate(C,q):\n",
    "    global hashmap\n",
    "    t=len(C)\n",
    "    temp=list()\n",
    "    for i in range(0,t):\n",
    "        hi=hashmap[q][i][0]\n",
    "        si=hashmap[q][i][1]\n",
    "        temp.append(C[i][hi]*si)\n",
    "    return np.median(temp)\n",
    "\n",
    "\n",
    "def TopK(stream,C,k=20):\n",
    "    global hashmap\n",
    "    myHeap=MyHeap(k)\n",
    "    result=list()\n",
    "    for q in stream:\n",
    "        C=Add(C,q)\n",
    "        f=Estimate(C,q)\n",
    "        temp=(f,q)\n",
    "        myHeap.push(temp)\n",
    "    for i in range(k):\n",
    "        result.append(myHeap.pop())\n",
    "    return result\n",
    "\n",
    "def BruteForce_Count(stream,k=20):\n",
    "    counter=dict()\n",
    "    for q in stream:\n",
    "        if q in counter.keys():\n",
    "            counter[q]+=1\n",
    "        else:\n",
    "            counter[q]=1\n",
    "    result=sorted(counter,key=counter.get,reverse=True)[:k] #按值排序\n",
    "    return result,counter\n",
    "\n",
    "def Variance(result,counter):\n",
    "    s=0\n",
    "    k=len(result)\n",
    "    for i in result:\n",
    "        s+=(i[0]-counter[i[1]])**2\n",
    "    return (s/k)**0.5\n",
    "\n",
    "def Recall(result,real):\n",
    "    k=len(real)\n",
    "    temp=list()\n",
    "    for i in result:\n",
    "        temp.append(i[1])\n",
    "    print(temp)\n",
    "    print(real)\n",
    "    recall=len(list(set(temp)&set(real)))/k\n",
    "    return recall\n",
    "\n",
    "def Lab(δ=0.001,ε=0.0217):\n",
    "    data=np.load('datastream2.npy')\n",
    "    n=len(data)\n",
    "    t=int(math.floor(1*(math.log(n/δ))))\n",
    "    b=int(math.floor(1/(ε**2)))\n",
    "    print(t)\n",
    "    print(b)\n",
    "    C=np.zeros((t,b),dtype='int32')\n",
    "    result=TopK(data,C)\n",
    "    real,counter=BruteForce_Count(data)\n",
    "    v=Variance(result,counter)\n",
    "    recall=Recall(result,real)\n",
    "    print(recall)\n",
    "    print(v)\n",
    "    \n",
    "Lab()"
   ]
  },
  {
   "cell_type": "code",
   "execution_count": null,
   "metadata": {},
   "outputs": [],
   "source": [
    "import numpy as np\n",
    "import math\n",
    "import random\n",
    "hashmap=dict()\n",
    "def CountSketch(stream,t=10,b=100):\n",
    "    C=np.zeros((t,b),dtype='int32')\n",
    "    global hashmap\n",
    "    for q in stream:\n",
    "        if q not in hashmap.keys():\n",
    "            temp=dict()\n",
    "            for i in range(t):\n",
    "                hi=np.random.choice(range(0,b),1)[0]\n",
    "                si=np.random.choice([-1, 1],1)[0]\n",
    "                temp[i]=(hi,si)\n",
    "                C[i][hi]+=si\n",
    "            hashmap[q]=temp\n",
    "        else:\n",
    "            for i in range(t):\n",
    "                hi=hashmap[q][i][0]\n",
    "                si=hashmap[q][i][1]\n",
    "                C[i][hi]+=si\n",
    "    return C\n",
    "\n",
    "def Estimate(C,q):\n",
    "    global hashmap\n",
    "    t=len(C)\n",
    "    temp=list()\n",
    "    for i in range(0,t):\n",
    "        hi=hashmap[q][i][0]\n",
    "        si=hashmap[q][i][1]\n",
    "        temp.append(C[i][hi]*si)\n",
    "    return np.median(temp)\n",
    "\n",
    "def BruteForce_Count(stream):\n",
    "    counter=dict()\n",
    "    for q in stream:\n",
    "        if q in counter.keys():\n",
    "            counter[q]+=1\n",
    "        else:\n",
    "            counter[q]=1\n",
    "    return counter\n",
    "\n",
    "\n",
    "data=np.load('datastream.npy')\n",
    "q=data[110]\n",
    "C=CountSketch(data)\n",
    "R=BruteForce_Count(data)\n",
    "result=Estimate(C,q)\n",
    "real=R[q]\n",
    "print(result)\n",
    "print(real)"
   ]
  },
  {
   "cell_type": "code",
   "execution_count": null,
   "metadata": {},
   "outputs": [],
   "source": []
  },
  {
   "cell_type": "code",
   "execution_count": 2,
   "metadata": {},
   "outputs": [
    {
     "name": "stdout",
     "output_type": "stream",
     "text": [
      "[365 183 797 ... 242 888 692]\n"
     ]
    },
    {
     "data": {
      "text/plain": [
       "<matplotlib.collections.PathCollection at 0x184c56ee7f0>"
      ]
     },
     "execution_count": 2,
     "metadata": {},
     "output_type": "execute_result"
    }
   ],
   "source": [
    "import matplotlib.pyplot as plt\n",
    "import numpy as np\n",
    "def BruteForce_Count(stream,k=20):\n",
    "    counter=dict()\n",
    "    for q in stream:\n",
    "        if q in counter.keys():\n",
    "            counter[q]+=1\n",
    "        else:\n",
    "            counter[q]=1\n",
    "    return counter\n",
    "\n",
    "\n",
    "data=np.random.randint(1,1000,(1,1000000))[0]\n",
    "print(data)\n",
    "result=BruteForce_Count(data)\n",
    "np.save('datastream',data)\n",
    "x=list()\n",
    "y=list()\n",
    "for i,j in result.items():\n",
    "    x.append(i)\n",
    "    y.append(j)\n",
    "plt.xlabel(\"X\", fontsize=14)\n",
    "plt.ylabel(\"Number\", fontsize=14)\n",
    "plt.scatter(x, y,c='k',s=10)"
   ]
  },
  {
   "cell_type": "code",
   "execution_count": 2,
   "metadata": {},
   "outputs": [
    {
     "name": "stderr",
     "output_type": "stream",
     "text": [
      "D:\\ProgramData\\Anaconda3\\lib\\site-packages\\matplotlib\\font_manager.py:1331: UserWarning: findfont: Font family ['SimSun'] not found. Falling back to DejaVu Sans\n",
      "  (prop.get_family(), self.defaultFamily[fontext]))\n"
     ]
    },
    {
     "data": {
      "image/png": "[encoded data removed]",
      "text/plain": [
       "<Figure size 432x288 with 2 Axes>"
      ]
     },
     "metadata": {
      "needs_background": "light"
     },
     "output_type": "display_data"
    }
   ],
   "source": [
    "import matplotlib.pyplot as plt\n",
    "import numpy as np\n",
    "\n",
    "x=[7,8,9,10,11,13,15,16,20,23]\n",
    "y1 = [0,0.05,0.15,0.4,0.5,0.55,0.85,0.8,0.9,1]\n",
    "y2=[955,599,358,328,258,149,130,91,29,0]\n",
    "\n",
    "parameter1 = np.polyfit(x, y1, 4) # n=1为一次函数，返回函数参数\n",
    "f1 = np.poly1d(parameter1) # 拼接方程\n",
    "parameter2 = np.polyfit(x, y2, 4) # n=1为一次函数，返回函数参数\n",
    "f2 = np.poly1d(parameter2) # 拼接方程\n",
    "fig = plt.figure()\n",
    "ax1 = fig.add_subplot(111)\n",
    "ax1.set_ylabel('Recall',fontproperties=\"SimSun\")\n",
    "ax1.set_xlabel('t')\n",
    "ax1.set_title(\"20-FAT  n=1000K,b=2K,ε=0.05,δ=0.05\", fontsize=14)\n",
    "ax2 = ax1.twinx()  # this is the important function\n",
    "ax2.set_ylabel(\"SD of the TopK Result\")\n",
    "ax1.plot(x, f1(x),label='Reacall')\n",
    "ax2.plot(x, f2(x), 'r',label='SD')\n",
    "fig.legend(loc=1, bbox_to_anchor=(1,1), bbox_transform=ax1.transAxes)\n",
    "\n",
    "plt.savefig('T2.png', bbox_inches='tight')\n"
   ]
  },
  {
   "cell_type": "code",
   "execution_count": null,
   "metadata": {},
   "outputs": [],
   "source": []
  },
  {
   "cell_type": "code",
   "execution_count": null,
   "metadata": {},
   "outputs": [],
   "source": []
  }
 ],
 "metadata": {
  "hide_input": false,
  "kernelspec": {
   "display_name": "Python 3",
   "language": "python",
   "name": "python3"
  },
  "language_info": {
   "codemirror_mode": {
    "name": "ipython",
    "version": 3
   },
   "file_extension": ".py",
   "mimetype": "text/x-python",
   "name": "python",
   "nbconvert_exporter": "python",
   "pygments_lexer": "ipython3",
   "version": "3.7.0"
  },
  "toc": {
   "base_numbering": 1,
   "nav_menu": {},
   "number_sections": true,
   "sideBar": true,
   "skip_h1_title": false,
   "title_cell": "Table of Contents",
   "title_sidebar": "Contents",
   "toc_cell": false,
   "toc_position": {},
   "toc_section_display": true,
   "toc_window_display": false
  },
  "varInspector": {
   "cols": {
    "lenName": 16,
    "lenType": 16,
    "lenVar": 40
   },
   "kernels_config": {
    "python": {
     "delete_cmd_postfix": "",
     "delete_cmd_prefix": "del ",
     "library": "var_list.py",
     "varRefreshCmd": "print(var_dic_list())"
    },
    "r": {
     "delete_cmd_postfix": ") ",
     "delete_cmd_prefix": "rm(",
     "library": "var_list.r",
     "varRefreshCmd": "cat(var_dic_list()) "
    }
   },
   "types_to_exclude": [
    "module",
    "function",
    "builtin_function_or_method",
    "instance",
    "_Feature"
   ],
   "window_display": false
  }
 },
 "nbformat": 4,
 "nbformat_minor": 2
}
