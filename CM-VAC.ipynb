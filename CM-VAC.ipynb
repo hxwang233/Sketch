{
 "cells": [
  {
   "cell_type": "code",
   "execution_count": 13,
   "metadata": {},
   "outputs": [],
   "source": [
    "import numpy as np\n",
    "import pandas as pd\n",
    "import random\n",
    "import matplotlib.pyplot as plt\n",
    "import copy"
   ]
  },
  {
   "cell_type": "code",
   "execution_count": 17,
   "metadata": {},
   "outputs": [],
   "source": [
    "df = pd.read_table(\"mushroom/mushroom.dat\", sep = '\\s+', header = None)"
   ]
  },
  {
   "cell_type": "code",
   "execution_count": 18,
   "metadata": {},
   "outputs": [
    {
     "name": "stdout",
     "output_type": "stream",
     "text": [
      "number of items:  119\n",
      "number of flows:  186852\n",
      "avg of S(x):  1570.18487394958\n",
      "parameter phi:  0.0084\n",
      "parameter epsilon should less than or equal phi\n"
     ]
    },
    {
     "data": {
      "image/png": "[encoded data removed]",
      "text/plain": [
       "<Figure size 432x288 with 1 Axes>"
      ]
     },
     "metadata": {
      "needs_background": "light"
     },
     "output_type": "display_data"
    }
   ],
   "source": [
    "def viewData(df):\n",
    "    d1 = dict()\n",
    "    half = dict()\n",
    "    count = 0\n",
    "    half_total = len(df.index) / 2\n",
    "    for line in df.values:\n",
    "        count += 1\n",
    "        for item in line:\n",
    "            if item not in d1.keys():\n",
    "                d1[item] = 0\n",
    "            d1[item] += 1\n",
    "        if count <= half_total:\n",
    "            half = d1.copy()\n",
    "    \n",
    "    items = sorted(d1, key = d1.get, reverse = True)\n",
    "    x = range(len(items))\n",
    "    y = [d1[i] for i in items]\n",
    "    plt.plot(x, y)\n",
    "    print(\"number of items: \", len(items))\n",
    "    print(\"number of flows: \", len(df.index) * len(df.columns))\n",
    "    print(\"avg of S(x): \", len(df.index) * len(df.columns) / len(items))\n",
    "    print(\"parameter phi: \", round(1 / len(items), 5))\n",
    "    print(\"parameter epsilon should less than or equal phi\")\n",
    "    realHH = set()\n",
    "    realHC = set()\n",
    "    for i,n in d1.items():\n",
    "        if n >= len(df.index) * len(df.columns) / len(items):\n",
    "            realHH.add(i)\n",
    "        if i in half.keys():\n",
    "            if n - half[i] >= round(len(df.index) / 2) * len(df.columns) / len(items):\n",
    "                realHC.add(i)\n",
    "        else:\n",
    "            if n >= round(len(df.index) / 2) * len(df.columns) / len(items):\n",
    "                realHC.add(i)\n",
    "    return d1\n",
    "    print(\"sketch1 belongs to half of the stream\")\n",
    "    print(\"sketch2 belongs to total of the stream\")\n",
    "    return realHH, realHC\n",
    "\n",
    "#realHH, realHC = viewData(df)\n",
    "d1 = viewData(df)"
   ]
  },
  {
   "cell_type": "code",
   "execution_count": 19,
   "metadata": {},
   "outputs": [],
   "source": [
    "def initSketch(sketch_width):  # 初始化PC*\n",
    "    sketch = np.zeros(sketch_width).astype(np.uint8)\n",
    "    return sketch"
   ]
  },
  {
   "cell_type": "code",
   "execution_count": 20,
   "metadata": {},
   "outputs": [],
   "source": [
    "def update(sketch,item,s,alpha,beta):\n",
    "    sketch_width = len(sketch)   # PC*的宽度m \n",
    "    c_alpha_upper = np.power(2,alpha)\n",
    "    np.random.seed(item[0])\n",
    "    h = np.random.choice(list(range(sketch_width)),size=s)\n",
    "    np.random.seed()  # 重置随机数种子\n",
    "    for i in h:  # 对s个VAC  \n",
    "        c_alpha = sketch[i] // np.power(2,beta)\n",
    "        c_beta  = sketch[i] - c_alpha * np.power(2,beta)\n",
    "        pi = 1/np.power(2,c_beta)\n",
    "        if np.random.random() < pi: \n",
    "            c_alpha += item[1]\n",
    "            if c_alpha >= c_alpha_upper:\n",
    "                c_alpha -= c_alpha_upper\n",
    "                c_beta += 1\n",
    "            sketch[i] = c_alpha * np.power(2,beta) + c_beta  \n",
    "    return"
   ]
  },
  {
   "cell_type": "code",
   "execution_count": 21,
   "metadata": {},
   "outputs": [],
   "source": [
    "def query(sketch,item,s,alpha,beta):\n",
    "    nf = list()\n",
    "    sketch_width = len(sketch)   # PC*的宽度m \n",
    "    c_alpha_upper = np.power(2,alpha)    \n",
    "    np.random.seed(item[0])\n",
    "    h = np.random.choice(list(range(sketch_width)),size=s)\n",
    "    np.random.seed()  # 重置随机数种子\n",
    "    for i in h: # 对s个VAC\n",
    "        #np.random.seed(i+item[0])\n",
    "        #hi = np.random.randint(sketch_width)\n",
    "        c_alpha = sketch[i] // np.power(2,beta)\n",
    "        c_beta  = sketch[i] - c_alpha  * np.power(2,beta)\n",
    "        ns = (c_alpha_upper + c_alpha) * np.power(2,c_beta) - c_alpha_upper  # 当前VAC的估计\n",
    "        nf.append(ns)\n",
    "    return np.min(nf)"
   ]
  },
  {
   "cell_type": "code",
   "execution_count": 22,
   "metadata": {},
   "outputs": [],
   "source": [
    "def processStream_HH(df, sketch, s, alpha, beta):\n",
    "    for record in df.values:\n",
    "        for i in record:\n",
    "            item = (i,1)\n",
    "            update(sketch,item,s,alpha,beta)\n",
    "    return sketch"
   ]
  },
  {
   "cell_type": "code",
   "execution_count": 23,
   "metadata": {},
   "outputs": [],
   "source": [
    "alpha = 3\n",
    "beta = 5\n",
    "m = 1024\n",
    "s = 4"
   ]
  },
  {
   "cell_type": "code",
   "execution_count": 24,
   "metadata": {},
   "outputs": [],
   "source": [
    "sketch = initSketch(m)"
   ]
  },
  {
   "cell_type": "code",
   "execution_count": 111,
   "metadata": {},
   "outputs": [],
   "source": [
    "sketch = processStream_HH(df, sketch, s, alpha, beta)"
   ]
  },
  {
   "cell_type": "code",
   "execution_count": 112,
   "metadata": {},
   "outputs": [
    {
     "data": {
      "text/plain": [
       "array([ 0,  0,  0, ...,  0, 99,  0], dtype=uint8)"
      ]
     },
     "execution_count": 112,
     "metadata": {},
     "output_type": "execute_result"
    }
   ],
   "source": [
    "sketch"
   ]
  },
  {
   "cell_type": "code",
   "execution_count": 25,
   "metadata": {},
   "outputs": [
    {
     "data": {
      "text/plain": [
       "[4.927422427619948,\n",
       " 0.7023899509325782,\n",
       " 0.17495081887961522,\n",
       " 0.19073310995430345,\n",
       " 0.19006582720572987,\n",
       " 0.18935811807896855]"
      ]
     },
     "execution_count": 25,
     "metadata": {},
     "output_type": "execute_result"
    }
   ],
   "source": [
    "mx = [256,512,1024,2048,4096,8192]\n",
    "res = list()\n",
    "for m in mx:\n",
    "    sketch = initSketch(m)\n",
    "    sketch = processStream_HH(df, sketch, s, alpha, beta)\n",
    "    su = 0\n",
    "    total = 0\n",
    "    for i,j in d1.items():\n",
    "        su += 1\n",
    "        temp = query(sketch,(i,1),s,alpha,beta)\n",
    "        total += np.abs(temp-j)/j\n",
    "    res.append(total/su)\n",
    "res"
   ]
  },
  {
   "cell_type": "code",
   "execution_count": 119,
   "metadata": {},
   "outputs": [
    {
     "name": "stdout",
     "output_type": "stream",
     "text": [
      "[595 742  40 969]\n"
     ]
    },
    {
     "data": {
      "text/plain": [
       "3064"
      ]
     },
     "execution_count": 119,
     "metadata": {},
     "output_type": "execute_result"
    }
   ],
   "source": [
    "query(sketch,(23,1),s,alpha,beta)"
   ]
  },
  {
   "cell_type": "code",
   "execution_count": 57,
   "metadata": {},
   "outputs": [
    {
     "data": {
      "text/plain": [
       "{1: 3916,\n",
       " 3: 3656,\n",
       " 9: 2556,\n",
       " 13: 2284,\n",
       " 23: 3376,\n",
       " 25: 256,\n",
       " 34: 7914,\n",
       " 36: 6812,\n",
       " 38: 2512,\n",
       " 40: 408,\n",
       " 52: 3516,\n",
       " 54: 1120,\n",
       " 59: 5176,\n",
       " 63: 4936,\n",
       " 67: 4464,\n",
       " 76: 4384,\n",
       " 85: 8124,\n",
       " 86: 7924,\n",
       " 90: 7488,\n",
       " 93: 3968,\n",
       " 98: 1872,\n",
       " 107: 1248,\n",
       " 113: 368,\n",
       " 2: 4208,\n",
       " 14: 1072,\n",
       " 26: 400,\n",
       " 39: 5612,\n",
       " 55: 556,\n",
       " 99: 1968,\n",
       " 108: 400,\n",
       " 114: 2148,\n",
       " 4: 452,\n",
       " 15: 1040,\n",
       " 27: 400,\n",
       " 41: 1048,\n",
       " 115: 292,\n",
       " 10: 3244,\n",
       " 16: 1840,\n",
       " 24: 4748,\n",
       " 28: 3528,\n",
       " 37: 1312,\n",
       " 53: 4608,\n",
       " 94: 2776,\n",
       " 109: 384,\n",
       " 42: 752,\n",
       " 43: 1492,\n",
       " 110: 4040,\n",
       " 44: 1202,\n",
       " 11: 2320,\n",
       " 64: 600,\n",
       " 5: 32,\n",
       " 111: 1712,\n",
       " 6: 3152,\n",
       " 56: 3776,\n",
       " 116: 3148,\n",
       " 57: 192,\n",
       " 65: 284,\n",
       " 117: 1144,\n",
       " 100: 48,\n",
       " 60: 552,\n",
       " 45: 732,\n",
       " 68: 576,\n",
       " 77: 1872,\n",
       " 69: 1872,\n",
       " 78: 576,\n",
       " 46: 492,\n",
       " 17: 1500,\n",
       " 29: 2160,\n",
       " 61: 2372,\n",
       " 66: 2304,\n",
       " 70: 448,\n",
       " 79: 432,\n",
       " 95: 1296,\n",
       " 101: 1632,\n",
       " 71: 432,\n",
       " 18: 144,\n",
       " 30: 192,\n",
       " 80: 512,\n",
       " 19: 168,\n",
       " 47: 96,\n",
       " 58: 2480,\n",
       " 72: 96,\n",
       " 91: 600,\n",
       " 102: 2388,\n",
       " 112: 340,\n",
       " 118: 192,\n",
       " 31: 576,\n",
       " 48: 1728,\n",
       " 20: 16,\n",
       " 96: 48,\n",
       " 119: 832,\n",
       " 103: 72,\n",
       " 21: 44,\n",
       " 7: 828,\n",
       " 81: 96,\n",
       " 22: 16,\n",
       " 32: 576,\n",
       " 82: 24,\n",
       " 12: 4,\n",
       " 8: 4,\n",
       " 49: 24,\n",
       " 35: 210,\n",
       " 50: 86,\n",
       " 73: 192,\n",
       " 83: 192,\n",
       " 87: 96,\n",
       " 51: 64,\n",
       " 88: 96,\n",
       " 104: 48,\n",
       " 33: 36,\n",
       " 74: 36,\n",
       " 84: 36,\n",
       " 92: 36,\n",
       " 97: 36,\n",
       " 105: 48,\n",
       " 106: 48,\n",
       " 62: 24,\n",
       " 75: 8,\n",
       " 89: 8}"
      ]
     },
     "execution_count": 57,
     "metadata": {},
     "output_type": "execute_result"
    }
   ],
   "source": [
    "d1"
   ]
  },
  {
   "cell_type": "code",
   "execution_count": 41,
   "metadata": {},
   "outputs": [
    {
     "data": {
      "text/plain": [
       "array([451, 340, 361, 133, 986, 136, 851, 360])"
      ]
     },
     "execution_count": 41,
     "metadata": {},
     "output_type": "execute_result"
    }
   ],
   "source": [
    "np.random.seed(3+5)\n",
    "np.random.choice(list(range(m)),size=s)"
   ]
  },
  {
   "cell_type": "code",
   "execution_count": null,
   "metadata": {},
   "outputs": [],
   "source": []
  },
  {
   "cell_type": "code",
   "execution_count": null,
   "metadata": {},
   "outputs": [],
   "source": []
  }
 ],
 "metadata": {
  "hide_input": false,
  "kernelspec": {
   "display_name": "Python 3",
   "language": "python",
   "name": "python3"
  },
  "language_info": {
   "codemirror_mode": {
    "name": "ipython",
    "version": 3
   },
   "file_extension": ".py",
   "mimetype": "text/x-python",
   "name": "python",
   "nbconvert_exporter": "python",
   "pygments_lexer": "ipython3",
   "version": "3.7.0"
  },
  "toc": {
   "base_numbering": 1,
   "nav_menu": {},
   "number_sections": true,
   "sideBar": true,
   "skip_h1_title": false,
   "title_cell": "Table of Contents",
   "title_sidebar": "Contents",
   "toc_cell": false,
   "toc_position": {},
   "toc_section_display": true,
   "toc_window_display": false
  },
  "varInspector": {
   "cols": {
    "lenName": 16,
    "lenType": 16,
    "lenVar": 40
   },
   "kernels_config": {
    "python": {
     "delete_cmd_postfix": "",
     "delete_cmd_prefix": "del ",
     "library": "var_list.py",
     "varRefreshCmd": "print(var_dic_list())"
    },
    "r": {
     "delete_cmd_postfix": ") ",
     "delete_cmd_prefix": "rm(",
     "library": "var_list.r",
     "varRefreshCmd": "cat(var_dic_list()) "
    }
   },
   "types_to_exclude": [
    "module",
    "function",
    "builtin_function_or_method",
    "instance",
    "_Feature"
   ],
   "window_display": false
  }
 },
 "nbformat": 4,
 "nbformat_minor": 2
}
