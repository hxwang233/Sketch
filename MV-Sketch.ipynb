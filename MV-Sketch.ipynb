{
 "cells": [
  {
   "cell_type": "code",
   "execution_count": 1,
   "metadata": {},
   "outputs": [],
   "source": [
    "import numpy as np\n",
    "import pandas as pd\n",
    "import random\n",
    "import matplotlib.pyplot as plt\n",
    "import copy"
   ]
  },
  {
   "cell_type": "code",
   "execution_count": 2,
   "metadata": {},
   "outputs": [],
   "source": [
    "df = pd.read_table(\"connect/connect.dat\", sep = '\\s+', header = None)"
   ]
  },
  {
   "cell_type": "code",
   "execution_count": 3,
   "metadata": {},
   "outputs": [
    {
     "name": "stdout",
     "output_type": "stream",
     "text": [
      "number of items:  129\n",
      "number of flows:  2904951\n",
      "avg of S(x):  22519.0\n",
      "parameter phi:  0.00775\n",
      "parameter epsilon should less than or equal phi\n",
      "sketch1 belongs to half of the stream\n",
      "sketch2 belongs to total of the stream\n"
     ]
    },
    {
     "data": {
      "image/png": "[encoded data removed]",
      "text/plain": [
       "<Figure size 432x288 with 1 Axes>"
      ]
     },
     "metadata": {
      "needs_background": "light"
     },
     "output_type": "display_data"
    }
   ],
   "source": [
    "def viewData(df):\n",
    "    d1 = dict()\n",
    "    half = dict()\n",
    "    count = 0\n",
    "    half_total = len(df.index) / 2\n",
    "    for line in df.values:\n",
    "        count += 1\n",
    "        for item in line:\n",
    "            if item not in d1.keys():\n",
    "                d1[item] = 0\n",
    "            d1[item] += 1\n",
    "        if count <= half_total:\n",
    "            half = d1.copy()\n",
    "\n",
    "    items = sorted(d1, key = d1.get, reverse = True)\n",
    "    x = range(len(items))\n",
    "    y = [d1[i] for i in items]\n",
    "    plt.plot(x, y)\n",
    "    print(\"number of items: \", len(items))\n",
    "    print(\"number of flows: \", len(df.index) * len(df.columns))\n",
    "    print(\"avg of S(x): \", len(df.index) * len(df.columns) / len(items))\n",
    "    print(\"parameter phi: \", round(1 / len(items), 5))\n",
    "    print(\"parameter epsilon should less than or equal phi\")\n",
    "    realHH = set()\n",
    "    realHC = set()\n",
    "    for i,n in d1.items():\n",
    "        if n >= len(df.index) * len(df.columns) / len(items):\n",
    "            realHH.add(i)\n",
    "        if i in half.keys():\n",
    "            if n - half[i] >= round(len(df.index) / 2) * len(df.columns) / len(items):\n",
    "                realHC.add(i)\n",
    "        else:\n",
    "            if n >= round(len(df.index) / 2) * len(df.columns) / len(items):\n",
    "                realHC.add(i)\n",
    "    print(\"sketch1 belongs to half of the stream\")\n",
    "    print(\"sketch2 belongs to total of the stream\")\n",
    "\n",
    "    return realHH, realHC\n",
    "\n",
    "realHH, realHC = viewData(df)"
   ]
  },
  {
   "cell_type": "code",
   "execution_count": 4,
   "metadata": {},
   "outputs": [],
   "source": [
    "def initSketch(sketch_deep, sketch_width):\n",
    "    sketch = [[(0,0,0) for x in range(sketch_width)] for y in range(sketch_deep)]\n",
    "    return sketch"
   ]
  },
  {
   "cell_type": "code",
   "execution_count": 5,
   "metadata": {},
   "outputs": [
    {
     "name": "stdout",
     "output_type": "stream",
     "text": [
      "r = 4\n",
      "w = 67\n"
     ]
    }
   ],
   "source": [
    "\"\"\"参数设置\"\"\"\n",
    "phi = 0.00775\n",
    "#phi = 0.0084\n",
    "delta   = 0.05\n",
    "epsilon = 0.03\n",
    "r = round(np.log2(1 / delta)).astype(np.int)\n",
    "w = round(2 / epsilon)\n",
    "print(\"r =\", r)\n",
    "print(\"w =\", w)\n",
    "sketch = initSketch(r, w)"
   ]
  },
  {
   "cell_type": "code",
   "execution_count": 6,
   "metadata": {},
   "outputs": [],
   "source": [
    "def update(sketch,item):\n",
    "    sketch_deep  = len(sketch)\n",
    "    sketch_width = len(sketch[0])\n",
    "    x  = item[0]\n",
    "    vx = item[1]\n",
    "    for i in range(sketch_deep):\n",
    "        np.random.seed(i + x)\n",
    "        j = np.random.choice(sketch_width)\n",
    "        V = sketch[i][j][0] + vx\n",
    "        K = sketch[i][j][1]\n",
    "        C = sketch[i][j][2]\n",
    "        if K == x:\n",
    "            C += vx\n",
    "        else:\n",
    "            C -= vx\n",
    "            if C < 0:\n",
    "                K = x\n",
    "                C = -C\n",
    "        sketch[i][j] = (V, K, C)\n",
    "    return sketch\n"
   ]
  },
  {
   "cell_type": "code",
   "execution_count": 7,
   "metadata": {},
   "outputs": [],
   "source": [
    "def processStream_HH(sketch, df):\n",
    "    for record in df.values:\n",
    "        for i in record:\n",
    "            item = (i,1)\n",
    "            update(sketch,item)\n",
    "    return\n",
    "\n",
    "#processStream_HH(sketch, df)"
   ]
  },
  {
   "cell_type": "code",
   "execution_count": 8,
   "metadata": {},
   "outputs": [],
   "source": [
    "def processStream_HC(sketch, df):\n",
    "    count = 0\n",
    "    half_total = len(df.index) / 2\n",
    "    for record in df.values:\n",
    "        count += 1\n",
    "        for i in record:\n",
    "            item = (i,1)\n",
    "            update(sketch,item)\n",
    "        if count <= half_total:\n",
    "            sketch1 = copy.deepcopy(sketch)\n",
    "    return sketch1,sketch\n",
    "\n",
    "sketch1, sketch2 = processStream_HC(sketch, df)"
   ]
  },
  {
   "cell_type": "code",
   "execution_count": 9,
   "metadata": {},
   "outputs": [],
   "source": [
    "def queryU(sketch, x):\n",
    "    sketch_deep  = len(sketch)\n",
    "    sketch_width = len(sketch[0])\n",
    "    res_list = list()\n",
    "    for i in range(sketch_deep):\n",
    "        np.random.seed(i + x)\n",
    "        j = np.random.choice(sketch_width)\n",
    "        V = sketch[i][j][0]\n",
    "        K = sketch[i][j][1]\n",
    "        C = sketch[i][j][2] \n",
    "        if K == x:\n",
    "            S = (V + C) / 2\n",
    "        else:\n",
    "            S = (V - C) / 2\n",
    "        res_list.append(S)\n",
    "    return min(res_list)\n"
   ]
  },
  {
   "cell_type": "code",
   "execution_count": 10,
   "metadata": {},
   "outputs": [],
   "source": [
    "def queryL(sketch, x):\n",
    "    sketch_deep  = len(sketch)\n",
    "    sketch_width = len(sketch[0])\n",
    "    res_list = list()\n",
    "    for i in range(sketch_deep):\n",
    "        np.random.seed(i + x)\n",
    "        j = np.random.choice(sketch_width)\n",
    "        K = sketch[i][j][1]\n",
    "        C = sketch[i][j][2] \n",
    "        if K == x:\n",
    "            S = C\n",
    "        else:\n",
    "            S = 0\n",
    "        res_list.append(S)\n",
    "    return max(res_list)"
   ]
  },
  {
   "cell_type": "code",
   "execution_count": 16,
   "metadata": {},
   "outputs": [],
   "source": [
    "def hitter(sketch, phi, S):\n",
    "    print(\"heavy hitter threshold: \", phi * S)\n",
    "    hh = set()\n",
    "    sketch_deep  = len(sketch)\n",
    "    sketch_width = len(sketch[0])\n",
    "    #for i in range(1,3):\n",
    "    for i in range(sketch_deep):\n",
    "        for j in range(sketch_width):\n",
    "            if sketch[i][j][0] >= phi * S:\n",
    "                x = sketch[i][j][1]\n",
    "                if queryU(sketch, x) >= phi * S:\n",
    "                    hh.add(x)\n",
    "    return hh\n",
    "     "
   ]
  },
  {
   "cell_type": "code",
   "execution_count": 17,
   "metadata": {
    "scrolled": false
   },
   "outputs": [
    {
     "name": "stdout",
     "output_type": "stream",
     "text": [
      "heavy hitter threshold:  22513.37025\n"
     ]
    }
   ],
   "source": [
    "S   = len(df.index) * len(df.columns)\n",
    "resHH = hitter(sketch2, phi, S)"
   ]
  },
  {
   "cell_type": "code",
   "execution_count": 44,
   "metadata": {},
   "outputs": [],
   "source": [
    "def changer(sketch1, sketch2, phi, D):\n",
    "    print(\"heavy changer threshold: \", phi * D)\n",
    "    hc = set()\n",
    "    sketch_deep  = len(sketch2)\n",
    "    sketch_width = len(sketch2[0])\n",
    "    for i in range(sketch_deep):\n",
    "        for j in range(sketch_width):\n",
    "            if sketch2[i][j][0] >= phi * D:\n",
    "                x  = sketch2[i][j][1]\n",
    "                U1 = queryU(sketch1, x)\n",
    "                U2 = queryU(sketch2, x)\n",
    "                L1 = queryL(sketch1, x)\n",
    "                L2 = queryL(sketch2, x)\n",
    "                D_estimate = abs(U1-L2) if (abs(U1-L2) > abs(L1-U2)) else abs(L1-U2)\n",
    "                if D_estimate >= phi * D:\n",
    "                    hc.add(x)\n",
    "    return hc"
   ]
  },
  {
   "cell_type": "code",
   "execution_count": 18,
   "metadata": {},
   "outputs": [],
   "source": [
    "def evaluate(res, real):\n",
    "    tp = fp = fn = 0\n",
    "    for i in res:\n",
    "        if i in real:\n",
    "            tp += 1\n",
    "        else:\n",
    "            fp += 1\n",
    "    for j in real:\n",
    "        if j not in res:\n",
    "            fn += 1\n",
    "    print(\"TP =\",tp,\"   FP =\", fp,\"   FN =\", fn)\n",
    "    recall = tp / (tp + fn)\n",
    "    print('reacall:', recall)\n",
    "    precision = tp / (tp + fp)\n",
    "    print('precision:',precision)\n",
    "    f1 = (2 * recall * precision) / (precision + recall)\n",
    "    print('F1-score:',f1)"
   ]
  },
  {
   "cell_type": "code",
   "execution_count": 19,
   "metadata": {},
   "outputs": [
    {
     "name": "stdout",
     "output_type": "stream",
     "text": [
      "TP = 43    FP = 0    FN = 0\n",
      "reacall: 1.0\n",
      "precision: 1.0\n",
      "F1-score: 1.0\n",
      "{1, 4, 7, 10, 13, 16, 19, 24, 25, 28, 31, 34, 37, 40, 44, 46, 49, 52, 55, 60, 63, 66, 69, 72, 75, 76, 79, 82, 85, 88, 91, 94, 97, 100, 103, 106, 109, 112, 115, 118, 121, 124, 127}\n",
      "{1, 4, 7, 10, 13, 16, 19, 24, 25, 28, 31, 34, 37, 40, 44, 46, 49, 52, 55, 60, 63, 66, 69, 72, 75, 76, 79, 82, 85, 88, 91, 94, 97, 100, 103, 106, 109, 112, 115, 118, 121, 124, 127}\n"
     ]
    }
   ],
   "source": [
    "evaluate(resHH, realHH)\n",
    "print(resHH)\n",
    "print(realHH)"
   ]
  },
  {
   "cell_type": "code",
   "execution_count": 16,
   "metadata": {},
   "outputs": [
    {
     "name": "stdout",
     "output_type": "stream",
     "text": [
      "heavy changer threshold:  11256.5185\n"
     ]
    }
   ],
   "source": [
    "D  = round(len(df.index) / 2) * len(df.columns)\n",
    "resHC = changer(sketch1, sketch2, phi, D)"
   ]
  },
  {
   "cell_type": "code",
   "execution_count": 17,
   "metadata": {},
   "outputs": [
    {
     "name": "stdout",
     "output_type": "stream",
     "text": [
      "TP = 43    FP = 3    FN = 1\n",
      "reacall: 0.9772727272727273\n",
      "precision: 0.9347826086956522\n",
      "F1-score: 0.9555555555555557\n",
      "{1, 6, 7, 10, 13, 16, 19, 22, 24, 25, 28, 31, 34, 37, 40, 44, 46, 49, 52, 55, 60, 63, 66, 69, 72, 75, 76, 79, 82, 85, 88, 91, 94, 97, 100, 103, 106, 109, 112, 113, 114, 115, 118, 121, 124, 127}\n",
      "{1, 6, 7, 10, 13, 16, 19, 24, 25, 28, 31, 34, 37, 40, 44, 46, 49, 52, 55, 60, 63, 66, 69, 72, 75, 76, 77, 79, 82, 85, 88, 91, 94, 97, 100, 103, 106, 109, 112, 115, 118, 121, 124, 127}\n"
     ]
    }
   ],
   "source": [
    "evaluate(resHC, realHC)\n",
    "print(resHC)\n",
    "print(realHC)"
   ]
  },
  {
   "cell_type": "code",
   "execution_count": null,
   "metadata": {},
   "outputs": [],
   "source": []
  }
 ],
 "metadata": {
  "hide_input": false,
  "kernelspec": {
   "display_name": "Python 3",
   "language": "python",
   "name": "python3"
  },
  "language_info": {
   "codemirror_mode": {
    "name": "ipython",
    "version": 3
   },
   "file_extension": ".py",
   "mimetype": "text/x-python",
   "name": "python",
   "nbconvert_exporter": "python",
   "pygments_lexer": "ipython3",
   "version": "3.7.0"
  },
  "toc": {
   "base_numbering": 1,
   "nav_menu": {},
   "number_sections": true,
   "sideBar": true,
   "skip_h1_title": false,
   "title_cell": "Table of Contents",
   "title_sidebar": "Contents",
   "toc_cell": false,
   "toc_position": {},
   "toc_section_display": true,
   "toc_window_display": false
  },
  "varInspector": {
   "cols": {
    "lenName": 16,
    "lenType": 16,
    "lenVar": 40
   },
   "kernels_config": {
    "python": {
     "delete_cmd_postfix": "",
     "delete_cmd_prefix": "del ",
     "library": "var_list.py",
     "varRefreshCmd": "print(var_dic_list())"
    },
    "r": {
     "delete_cmd_postfix": ") ",
     "delete_cmd_prefix": "rm(",
     "library": "var_list.r",
     "varRefreshCmd": "cat(var_dic_list()) "
    }
   },
   "types_to_exclude": [
    "module",
    "function",
    "builtin_function_or_method",
    "instance",
    "_Feature"
   ],
   "window_display": false
  }
 },
 "nbformat": 4,
 "nbformat_minor": 2
}
